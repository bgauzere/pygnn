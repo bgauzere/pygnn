{
 "cells": [
  {
   "cell_type": "code",
   "execution_count": 1,
   "metadata": {},
   "outputs": [],
   "source": [
    "from gklearn.utils.graphfiles import loadDataset\n",
    "import torch\n"
   ]
  },
  {
   "cell_type": "code",
   "execution_count": 77,
   "metadata": {},
   "outputs": [
    {
     "name": "stdout",
     "output_type": "stream",
     "text": [
      "{11, 12, 13, 14, 15, 16, 17, 18, 19, 20, 21, 22, 23, 24, 25, 26, 27}\n"
     ]
    }
   ],
   "source": [
    "import numpy as np \n",
    "Gs, y = loadDataset(\"/home/bgauzere/work/Recherche/Datasets/MAO/dataset.ds\")\n",
    "\n",
    "atoms = set()\n",
    "sizes= set()\n",
    "for G in Gs:\n",
    "    for n,label in G.nodes(data=True):\n",
    "        atoms.add(label['atom'])\n",
    "    sizes.add(G.order())\n",
    "    \n",
    "atom_to_onehot = {'C' : [1.,0.,0.], 'N' : [0.,1.,0.],'O' : [1.,0.,0.]}\n",
    "print(sizes)\n"
   ]
  },
  {
   "cell_type": "code",
   "execution_count": 3,
   "metadata": {},
   "outputs": [],
   "source": [
    "t_y = torch.Tensor(y).size()"
   ]
  },
  {
   "cell_type": "code",
   "execution_count": 102,
   "metadata": {},
   "outputs": [],
   "source": [
    "G =Gs[0]\n",
    "from utils import encode_onehot"
   ]
  },
  {
   "cell_type": "code",
   "execution_count": 103,
   "metadata": {},
   "outputs": [
    {
     "name": "stdout",
     "output_type": "stream",
     "text": [
      "11\n",
      "11\n"
     ]
    },
    {
     "data": {
      "text/plain": [
       "[[0.0, 1.0, 0.0],\n",
       " [1.0, 0.0, 0.0],\n",
       " [1.0, 0.0, 0.0],\n",
       " [1.0, 0.0, 0.0],\n",
       " [1.0, 0.0, 0.0],\n",
       " [1.0, 0.0, 0.0],\n",
       " [1.0, 0.0, 0.0],\n",
       " [1.0, 0.0, 0.0],\n",
       " [1.0, 0.0, 0.0],\n",
       " [1.0, 0.0, 0.0],\n",
       " [0.0, 1.0, 0.0]]"
      ]
     },
     "execution_count": 103,
     "metadata": {},
     "output_type": "execute_result"
    }
   ],
   "source": [
    "inputs = []\n",
    "for i,label in G.nodes(data=True):\n",
    "    #print(i)\n",
    "    cur_label = atom_to_onehot[label['atom']].copy()\n",
    "    #cur_label.extend([float(x) for x in label['attributes']])\n",
    "    #print(label['attributes'])\n",
    "    #print(cur_label)\n",
    "    inputs.append(cur_label)\n",
    "print(len(inputs))\n",
    "print(G.order())\n",
    "inputs"
   ]
  },
  {
   "cell_type": "code",
   "execution_count": 104,
   "metadata": {},
   "outputs": [],
   "source": [
    "t_data = torch.stack((torch.Tensor(inputs).reshape(-1,len(inputs),3),torch.Tensor(inputs).reshape(-1,len(inputs),3)))"
   ]
  },
  {
   "cell_type": "code",
   "execution_count": 105,
   "metadata": {},
   "outputs": [],
   "source": [
    "import torch.nn as nn\n",
    "import torch.nn.functional as F\n",
    "from layers import GraphConvolution, GraphPooling\n",
    "\n",
    "\n",
    "class GCN(nn.Module):\n",
    "    def __init__(self, nfeat, nhid, nclass, dropout):\n",
    "        super(GCN, self).__init__()\n",
    "\n",
    "        self.gc1 = GraphConvolution(nfeat, nhid)\n",
    "        #self.gc2 = GraphConvolution(nhid, nclass)\n",
    "        self.dropout = dropout\n",
    "        self.pooling = GraphPooling()\n",
    "        self.fc3 = nn.Linear(nhid, nclass)\n",
    "\n",
    "    def forward(self, x, adj):\n",
    "        x = F.relu(self.gc1(x, adj))\n",
    "        #x = F.relu(self.gc2(x, adj))\n",
    "        x = self.pooling(x)\n",
    "        \n",
    "        x = F.log_softmax(self.fc3(x))\n",
    "        return x\n"
   ]
  },
  {
   "cell_type": "code",
   "execution_count": 106,
   "metadata": {},
   "outputs": [],
   "source": [
    "gcn = GCN(3,10,2,0.5)"
   ]
  },
  {
   "cell_type": "code",
   "execution_count": 121,
   "metadata": {},
   "outputs": [],
   "source": [
    "def load_MAO():\n",
    "    import networkx as nx\n",
    "    from gklearn.utils.graphfiles import loadDataset\n",
    "    import torch\n",
    "    \n",
    "    Gs, y = loadDataset(\"/home/bgauzere/work/Recherche/Datasets/MAO/dataset.ds\")\n",
    "    t_classes = torch.Tensor(encode_onehot(y))\n",
    "    max_size = 30\n",
    "    adjs = []\n",
    "    inputs = []\n",
    "    for i,G in enumerate(Gs):\n",
    "        I = torch.eye(G.order(),G.order())\n",
    "        A = torch.Tensor(nx.adjacency_matrix(G).todense())\n",
    "        adj=F.pad(A+I,pad=(0,30-G.order(),0,30-G.order()))\n",
    "        adjs.append(adj)\n",
    "        \n",
    "        f_0 = []\n",
    "        for _,label in G.nodes(data=True):\n",
    "            cur_label = atom_to_onehot[label['atom']].copy()\n",
    "            f_0.append(cur_label)\n",
    "        \n",
    "        X = F.pad(torch.Tensor(f_0), pad=(0,0,0,30-G.order()))\n",
    "        inputs.append(X)\n",
    "    return inputs,adjs,t_classes"
   ]
  },
  {
   "cell_type": "code",
   "execution_count": 125,
   "metadata": {},
   "outputs": [
    {
     "data": {
      "text/plain": [
       "68"
      ]
     },
     "execution_count": 125,
     "metadata": {},
     "output_type": "execute_result"
    }
   ],
   "source": [
    "Xs,adjs,y_t = load_MAO()\n"
   ]
  },
  {
   "cell_type": "code",
   "execution_count": 110,
   "metadata": {},
   "outputs": [
    {
     "name": "stderr",
     "output_type": "stream",
     "text": [
      "/home/bgauzere/.local/lib/python3.7/site-packages/ipykernel_launcher.py:21: UserWarning: Implicit dimension choice for log_softmax has been deprecated. Change the call to include dim=X as an argument.\n"
     ]
    },
    {
     "data": {
      "text/plain": [
       "tensor([-4.4085, -0.0122], grad_fn=<LogSoftmaxBackward>)"
      ]
     },
     "execution_count": 110,
     "metadata": {},
     "output_type": "execute_result"
    }
   ],
   "source": [
    "outputs=gcn(X,adj)\n",
    "outputs"
   ]
  },
  {
   "cell_type": "code",
   "execution_count": 66,
   "metadata": {},
   "outputs": [
    {
     "data": {
      "text/plain": [
       "tensor([[ 0.5360, -0.3162, -0.1142, -0.2304, -0.2122, -0.4304,  0.8229, -0.5095,\n",
       "          0.2824, -0.1450],\n",
       "        [ 0.6286, -0.5747, -0.1262, -0.2673, -0.4405, -0.7413,  1.0537, -0.7807,\n",
       "          0.2245, -0.2766],\n",
       "        [ 0.4154, -0.5300,  0.1600, -0.1538, -0.6476, -1.0371,  0.8767, -1.0269,\n",
       "          0.0515, -0.2068],\n",
       "        [ 0.5080, -0.7886,  0.1480, -0.1907, -0.8760, -1.3480,  1.1074, -1.2981,\n",
       "         -0.0064, -0.3384],\n",
       "        [ 0.4154, -0.5300,  0.1600, -0.1538, -0.6476, -1.0371,  0.8767, -1.0269,\n",
       "          0.0515, -0.2068],\n",
       "        [ 0.4154, -0.5300,  0.1600, -0.1538, -0.6476, -1.0371,  0.8767, -1.0269,\n",
       "          0.0515, -0.2068],\n",
       "        [ 0.4154, -0.5300,  0.1600, -0.1538, -0.6476, -1.0371,  0.8767, -1.0269,\n",
       "          0.0515, -0.2068],\n",
       "        [ 0.4154, -0.5300,  0.1600, -0.1538, -0.6476, -1.0371,  0.8767, -1.0269,\n",
       "          0.0515, -0.2068],\n",
       "        [ 0.6286, -0.5747, -0.1262, -0.2673, -0.4405, -0.7413,  1.0537, -0.7807,\n",
       "          0.2245, -0.2766],\n",
       "        [ 0.5360, -0.3162, -0.1142, -0.2304, -0.2122, -0.4304,  0.8229, -0.5095,\n",
       "          0.2824, -0.1450],\n",
       "        [ 0.4435, -0.0576, -0.1022, -0.1935,  0.0162, -0.1194,  0.5922, -0.2382,\n",
       "          0.3403, -0.0134]], grad_fn=<AddBackward0>)"
      ]
     },
     "execution_count": 66,
     "metadata": {},
     "output_type": "execute_result"
    }
   ],
   "source": []
  },
  {
   "cell_type": "code",
   "execution_count": 72,
   "metadata": {},
   "outputs": [
    {
     "name": "stdout",
     "output_type": "stream",
     "text": [
      "None\n"
     ]
    }
   ],
   "source": []
  },
  {
   "cell_type": "code",
   "execution_count": 168,
   "metadata": {},
   "outputs": [
    {
     "data": {
      "text/plain": [
       "0.0"
      ]
     },
     "execution_count": 168,
     "metadata": {},
     "output_type": "execute_result"
    }
   ],
   "source": [
    "Y = encode_onehot(y)\n",
    "\n",
    "t=outputs.reshape(1,-1)\n",
    "\n",
    "y[0]"
   ]
  },
  {
   "cell_type": "code",
   "execution_count": 170,
   "metadata": {},
   "outputs": [
    {
     "data": {
      "text/plain": [
       "tensor(4.4085, grad_fn=<NllLossBackward>)"
      ]
     },
     "execution_count": 170,
     "metadata": {},
     "output_type": "execute_result"
    }
   ],
   "source": [
    "criterion = torch.nn.CrossEntropyLoss()\n",
    "target = torch.tensor([y[0]]).long()\n",
    "criterion(t,target)"
   ]
  },
  {
   "cell_type": "code",
   "execution_count": 181,
   "metadata": {},
   "outputs": [
    {
     "data": {
      "text/plain": [
       "1"
      ]
     },
     "execution_count": 181,
     "metadata": {},
     "output_type": "execute_result"
    }
   ],
   "source": [
    "outputs.argmax().item()"
   ]
  },
  {
   "cell_type": "code",
   "execution_count": 155,
   "metadata": {},
   "outputs": [
    {
     "data": {
      "text/plain": [
       "tensor(2.4402)"
      ]
     },
     "execution_count": 155,
     "metadata": {},
     "output_type": "execute_result"
    }
   ],
   "source": [
    "predicted = torch.tensor([[1.,2.,3.,4.]])\n",
    "target = torch.tensor([1])\n",
    "criterion(predicted,target)"
   ]
  },
  {
   "cell_type": "code",
   "execution_count": 151,
   "metadata": {},
   "outputs": [
    {
     "name": "stdout",
     "output_type": "stream",
     "text": [
      "torch.Size([1, 4])\n"
     ]
    },
    {
     "data": {
      "text/plain": [
       "torch.Size([1])"
      ]
     },
     "execution_count": 151,
     "metadata": {},
     "output_type": "execute_result"
    }
   ],
   "source": [
    "print(predicted.size())\n",
    "target.size()"
   ]
  },
  {
   "cell_type": "code",
   "execution_count": 182,
   "metadata": {},
   "outputs": [
    {
     "data": {
      "text/plain": [
       "tensor([[0., 1., 0., 0., 0., 0., 0., 0., 1., 0., 0.],\n",
       "        [1., 0., 1., 0., 0., 0., 0., 0., 0., 1., 0.],\n",
       "        [0., 1., 0., 1., 0., 0., 0., 0., 0., 0., 0.],\n",
       "        [0., 0., 1., 0., 1., 0., 0., 0., 1., 0., 0.],\n",
       "        [0., 0., 0., 1., 0., 1., 0., 0., 0., 0., 0.],\n",
       "        [0., 0., 0., 0., 1., 0., 1., 0., 0., 0., 0.],\n",
       "        [0., 0., 0., 0., 0., 1., 0., 1., 0., 0., 0.],\n",
       "        [0., 0., 0., 0., 0., 0., 1., 0., 1., 0., 0.],\n",
       "        [1., 0., 0., 1., 0., 0., 0., 1., 0., 0., 0.],\n",
       "        [0., 1., 0., 0., 0., 0., 0., 0., 0., 0., 1.],\n",
       "        [0., 0., 0., 0., 0., 0., 0., 0., 0., 1., 0.]])"
      ]
     },
     "execution_count": 182,
     "metadata": {},
     "output_type": "execute_result"
    }
   ],
   "source": [
    "A"
   ]
  },
  {
   "cell_type": "code",
   "execution_count": 183,
   "metadata": {},
   "outputs": [
    {
     "data": {
      "text/plain": [
       "tensor([[1., 0., 0., 0., 0., 0., 0., 0., 0., 0., 0.],\n",
       "        [0., 1., 0., 0., 0., 0., 0., 0., 0., 0., 0.],\n",
       "        [0., 0., 1., 0., 0., 0., 0., 0., 0., 0., 0.],\n",
       "        [0., 0., 0., 1., 0., 0., 0., 0., 0., 0., 0.],\n",
       "        [0., 0., 0., 0., 1., 0., 0., 0., 0., 0., 0.],\n",
       "        [0., 0., 0., 0., 0., 1., 0., 0., 0., 0., 0.],\n",
       "        [0., 0., 0., 0., 0., 0., 1., 0., 0., 0., 0.],\n",
       "        [0., 0., 0., 0., 0., 0., 0., 1., 0., 0., 0.],\n",
       "        [0., 0., 0., 0., 0., 0., 0., 0., 1., 0., 0.],\n",
       "        [0., 0., 0., 0., 0., 0., 0., 0., 0., 1., 0.],\n",
       "        [0., 0., 0., 0., 0., 0., 0., 0., 0., 0., 1.]])"
      ]
     },
     "execution_count": 183,
     "metadata": {},
     "output_type": "execute_result"
    }
   ],
   "source": [
    "I"
   ]
  },
  {
   "cell_type": "code",
   "execution_count": null,
   "metadata": {},
   "outputs": [],
   "source": [
    "p=torch.randperm(11)"
   ]
  },
  {
   "cell_type": "code",
   "execution_count": 192,
   "metadata": {},
   "outputs": [
    {
     "name": "stdout",
     "output_type": "stream",
     "text": [
      "tensor([ 0,  3,  2,  8,  5,  1,  7,  9, 10,  6,  4])\n"
     ]
    },
    {
     "data": {
      "text/plain": [
       "tensor([[ 0.,  0.,  0.,  0.,  0.,  0.,  0.,  0.,  0.,  0.,  0.],\n",
       "        [ 0.,  3.,  0.,  0.,  0.,  0.,  0.,  0.,  0.,  0.,  0.],\n",
       "        [ 0.,  0.,  2.,  0.,  0.,  0.,  0.,  0.,  0.,  0.,  0.],\n",
       "        [ 0.,  0.,  0.,  8.,  0.,  0.,  0.,  0.,  0.,  0.,  0.],\n",
       "        [ 0.,  0.,  0.,  0.,  5.,  0.,  0.,  0.,  0.,  0.,  0.],\n",
       "        [ 0.,  0.,  0.,  0.,  0.,  1.,  0.,  0.,  0.,  0.,  0.],\n",
       "        [ 0.,  0.,  0.,  0.,  0.,  0.,  7.,  0.,  0.,  0.,  0.],\n",
       "        [ 0.,  0.,  0.,  0.,  0.,  0.,  0.,  9.,  0.,  0.,  0.],\n",
       "        [ 0.,  0.,  0.,  0.,  0.,  0.,  0.,  0., 10.,  0.,  0.],\n",
       "        [ 0.,  0.,  0.,  0.,  0.,  0.,  0.,  0.,  0.,  6.,  0.],\n",
       "        [ 0.,  0.,  0.,  0.,  0.,  0.,  0.,  0.,  0.,  0.,  4.]])"
      ]
     },
     "execution_count": 192,
     "metadata": {},
     "output_type": "execute_result"
    }
   ],
   "source": [
    "print(p)\n",
    "for i in range(11):\n",
    "    I[i,i] = i\n",
    "\n",
    "I[p,:][:,p]"
   ]
  },
  {
   "cell_type": "code",
   "execution_count": 198,
   "metadata": {},
   "outputs": [
    {
     "name": "stdout",
     "output_type": "stream",
     "text": [
      "None\n",
      "[1, 4, 3, 2]\n"
     ]
    }
   ],
   "source": [
    "l=[1,2,3,4]\n",
    "import random\n",
    "print(random.shuffle(l))\n",
    "print(l)"
   ]
  },
  {
   "cell_type": "code",
   "execution_count": 204,
   "metadata": {},
   "outputs": [],
   "source": [
    "l1 = [1,2,3,4]\n",
    "l2 = [\"un\",\"deux\",\"trois\",\"quatre\"]\n",
    "l3 =[\"one\",\"two\",\"three\",\"four\"]\n",
    "\n",
    "mapIndexPosition = list(zip(l1, l2,l3))\n",
    "random.shuffle(mapIndexPosition)"
   ]
  },
  {
   "cell_type": "code",
   "execution_count": 205,
   "metadata": {},
   "outputs": [
    {
     "name": "stdout",
     "output_type": "stream",
     "text": [
      "3 trois three\n",
      "4 quatre four\n",
      "2 deux two\n",
      "1 un one\n"
     ]
    }
   ],
   "source": [
    "\n",
    "for i,j,k in mapIndexPosition:\n",
    "    print(i,j,k)"
   ]
  },
  {
   "cell_type": "code",
   "execution_count": null,
   "metadata": {},
   "outputs": [],
   "source": []
  }
 ],
 "metadata": {
  "kernelspec": {
   "display_name": "Python 3",
   "language": "python",
   "name": "python3"
  },
  "language_info": {
   "codemirror_mode": {
    "name": "ipython",
    "version": 3
   },
   "file_extension": ".py",
   "mimetype": "text/x-python",
   "name": "python",
   "nbconvert_exporter": "python",
   "pygments_lexer": "ipython3",
   "version": "3.7.5"
  }
 },
 "nbformat": 4,
 "nbformat_minor": 4
}
